{
 "cells": [
  {
   "cell_type": "code",
   "execution_count": 2,
   "id": "7a037f7a-8e2c-450f-b3bb-16cf5151c9d5",
   "metadata": {},
   "outputs": [
    {
     "name": "stdout",
     "output_type": "stream",
     "text": [
      "Hello World\n",
      "Saya senang sekali belajar Python\n",
      "Saya Lendi Prastyo Mahasiswa Teknik Komputer Universitas Wiralodra\n"
     ]
    }
   ],
   "source": [
    "print('Hello World')\n",
    "print('Saya senang sekali belajar Python')\n",
    "print('saya Lendi Prastyo Mahasiswa Teknik Komputer Universitas Wiralodra')"
   ]
  },
  {
   "cell_type": "code",
   "execution_count": null,
   "id": "ee51a9bb-65b6-468c-8541-653eefcd9bc7",
   "metadata": {},
   "outputs": [],
   "source": []
  }
 ],
 "metadata": {
  "kernelspec": {
   "display_name": "Python 3 (ipykernel)",
   "language": "python",
   "name": "python3"
  },
  "language_info": {
   "codemirror_mode": {
    "name": "ipython",
    "version": 3
   },
   "file_extension": ".py",
   "mimetype": "text/x-python",
   "name": "python",
   "nbconvert_exporter": "python",
   "pygments_lexer": "ipython3",
   "version": "3.9.10"
  }
 },
 "nbformat": 4,
 "nbformat_minor": 5
}
