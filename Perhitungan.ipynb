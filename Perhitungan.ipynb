{
 "cells": [
  {
   "cell_type": "code",
   "execution_count": 1,
   "id": "6533c9c2-dc9d-4053-bc38-68bdb878462d",
   "metadata": {},
   "outputs": [
    {
     "name": "stdout",
     "output_type": "stream",
     "text": [
      "18000\n",
      "19800.0\n"
     ]
    }
   ],
   "source": [
    "harga_asli=20000\n",
    "harga_potongan=2000\n",
    "harga_setelah_potongan=harga_asli-harga_potongan\n",
    "print(harga_setelah_potongan)\n",
    "harga_final=harga_setelah_potongan*1.1\n",
    "print(harga_final)"
   ]
  },
  {
   "cell_type": "code",
   "execution_count": null,
   "id": "eed8c353-fb97-465f-ac89-0df54296eb81",
   "metadata": {},
   "outputs": [],
   "source": []
  }
 ],
 "metadata": {
  "kernelspec": {
   "display_name": "Python 3 (ipykernel)",
   "language": "python",
   "name": "python3"
  },
  "language_info": {
   "codemirror_mode": {
    "name": "ipython",
    "version": 3
   },
   "file_extension": ".py",
   "mimetype": "text/x-python",
   "name": "python",
   "nbconvert_exporter": "python",
   "pygments_lexer": "ipython3",
   "version": "3.9.10"
  }
 },
 "nbformat": 4,
 "nbformat_minor": 5
}
