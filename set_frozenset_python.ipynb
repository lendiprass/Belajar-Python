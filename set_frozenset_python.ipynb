{
 "cells": [
  {
   "cell_type": "code",
   "execution_count": 3,
   "id": "6533c9c2-dc9d-4053-bc38-68bdb878462d",
   "metadata": {},
   "outputs": [
    {
     "name": "stdout",
     "output_type": "stream",
     "text": [
      "['Dewi', 'Budi', 'Cici', 'Linda', 'Cici']\n",
      "{'Budi', 'Dewi', 'Linda', 'Cici'}\n",
      "{'Budi', 'Dewi', 'Linda', 'Cici'}\n"
     ]
    }
   ],
   "source": [
    "contoh_list=['Dewi','Budi','Cici','Linda','Cici']\n",
    "print(contoh_list)\n",
    "data_set={'Dewi','Budi','Cici','Linda','Cici'}\n",
    "print(data_set)\n",
    "data_frozenset=({'Dewi','Budi','Cici','Linda','Cici'})\n",
    "print(data_frozenset)"
   ]
  },
  {
   "cell_type": "code",
   "execution_count": null,
   "id": "e80e4bf7-68b8-428d-bd95-83f9a8ed439f",
   "metadata": {},
   "outputs": [],
   "source": []
  }
 ],
 "metadata": {
  "kernelspec": {
   "display_name": "Python 3 (ipykernel)",
   "language": "python",
   "name": "python3"
  },
  "language_info": {
   "codemirror_mode": {
    "name": "ipython",
    "version": 3
   },
   "file_extension": ".py",
   "mimetype": "text/x-python",
   "name": "python",
   "nbconvert_exporter": "python",
   "pygments_lexer": "ipython3",
   "version": "3.9.10"
  }
 },
 "nbformat": 4,
 "nbformat_minor": 5
}
